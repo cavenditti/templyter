{
 "cells": [
  {
   "cell_type": "markdown",
   "id": "ff445c87-be16-405a-aab5-132bebea85b9",
   "metadata": {},
   "source": [
    "# Notebook template example\n",
    "\n",
    "An example notebook to demonstrate placeholder filling."
   ]
  },
  {
   "cell_type": "markdown",
   "id": "3baef6a7-95d2-4a68-9f64-e0c83f5ecd9a",
   "metadata": {},
   "source": [
    "## Imports and trained models loading"
   ]
  },
  {
   "cell_type": "code",
   "execution_count": null,
   "id": "31744a1e-10a1-4944-b6ec-8d29d25bd0f1",
   "metadata": {
    "tags": []
   },
   "outputs": [],
   "source": [
    "%load_ext autoreload\n",
    "%autoreload 2"
   ]
  },
  {
   "cell_type": "code",
   "execution_count": null,
   "id": "9aa09b12-4565-432c-903a-a4da016213c1",
   "metadata": {
    "tags": []
   },
   "outputs": [],
   "source": [
    "# @ PLACEHOLDER<values>: WILL BE AUTOMATICALLY OVERWRITTEN\n",
    "\n",
    "# Any code here will just overwritten, I like to keep only variables here because\n",
    "# it allows to run the notebook from Jupyter if I want to and doesn't hide the\n",
    "# logic in the code \n",
    "\n",
    "value = \"somevalue\"\n",
    "intvalue = 12\n",
    "\n",
    "print('Only prints when running interactively')"
   ]
  },
  {
   "cell_type": "code",
   "execution_count": null,
   "id": "69708b36-68cc-4381-82cb-03a796c2f535",
   "metadata": {
    "tags": []
   },
   "outputs": [],
   "source": [
    "print(value)\n",
    "print(intvalue * 2)"
   ]
  },
  {
   "cell_type": "markdown",
   "id": "e61be7c2-b9bd-4278-b055-f94cdbb29c10",
   "metadata": {},
   "source": [
    "## Markdown cells\n",
    "Markdown cells are treated the same and can be placeholders too."
   ]
  },
  {
   "cell_type": "markdown",
   "id": "f525565d-17e1-47c9-817c-3a65584f28a8",
   "metadata": {},
   "source": [
    "# @ PLACEHOLDER<md>: WILL BE AUTOMATICALLY OVERWRITTEN\n",
    "\n",
    "A simple markdown placeholder cell"
   ]
  },
  {
   "cell_type": "code",
   "execution_count": null,
   "id": "b12c7ba3-a100-4c12-9044-95d12455a085",
   "metadata": {},
   "outputs": [],
   "source": []
  }
 ],
 "metadata": {
  "kernelspec": {
   "display_name": "Python 3 (ipykernel)",
   "language": "python",
   "name": "python3"
  },
  "language_info": {
   "codemirror_mode": {
    "name": "ipython",
    "version": 3
   },
   "file_extension": ".py",
   "mimetype": "text/x-python",
   "name": "python",
   "nbconvert_exporter": "python",
   "pygments_lexer": "ipython3",
   "version": "3.11.5"
  }
 },
 "nbformat": 4,
 "nbformat_minor": 5
}
